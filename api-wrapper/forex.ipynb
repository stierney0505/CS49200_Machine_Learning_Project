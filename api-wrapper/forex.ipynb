{
 "cells": [
  {
   "cell_type": "code",
   "execution_count": 2,
   "metadata": {},
   "outputs": [
    {
     "data": {
      "text/plain": [
       "106555"
      ]
     },
     "execution_count": 2,
     "metadata": {},
     "output_type": "execute_result"
    }
   ],
   "source": [
    "import os\n",
    "from dotenv import load_dotenv\n",
    "import requests\n",
    "\n",
    "load_dotenv()\n",
    "access_key = os.getenv('ACCESS_KEY')\n",
    "\n",
    "# API from Alpha Vantage\n",
    "# Limited to 25 requests/day at the free tier\n",
    "\n",
    "# USD to EUR\n",
    "url = f'https://www.alphavantage.co/query?function=FX_DAILY&from_symbol=USD&to_symbol=EUR&outputsize=full&apikey={access_key}&datatype=csv'\n",
    "\n",
    "response = requests.get(url)\n",
    "\n",
    "open('eur.csv', 'wb').write(response.content)"
   ]
  },
  {
   "cell_type": "code",
   "execution_count": 3,
   "metadata": {},
   "outputs": [
    {
     "data": {
      "text/plain": [
       "254872"
      ]
     },
     "execution_count": 3,
     "metadata": {},
     "output_type": "execute_result"
    }
   ],
   "source": [
    "# USD to JPY\n",
    "url = f'https://www.alphavantage.co/query?function=FX_DAILY&from_symbol=USD&to_symbol=JPY&outputsize=full&apikey={access_key}&datatype=csv'\n",
    "\n",
    "response = requests.get(url)\n",
    "\n",
    "open('jpy.csv', 'wb').write(response.content)"
   ]
  },
  {
   "cell_type": "code",
   "execution_count": 4,
   "metadata": {},
   "outputs": [
    {
     "data": {
      "text/plain": [
       "106555"
      ]
     },
     "execution_count": 4,
     "metadata": {},
     "output_type": "execute_result"
    }
   ],
   "source": [
    "# USD to AUD\n",
    "url = f'https://www.alphavantage.co/query?function=FX_DAILY&from_symbol=USD&to_symbol=AUD&outputsize=full&apikey={access_key}&datatype=csv'\n",
    "\n",
    "response = requests.get(url)\n",
    "\n",
    "open('aud.csv', 'wb').write(response.content)"
   ]
  },
  {
   "cell_type": "code",
   "execution_count": 5,
   "metadata": {},
   "outputs": [
    {
     "data": {
      "text/plain": [
       "220075"
      ]
     },
     "execution_count": 5,
     "metadata": {},
     "output_type": "execute_result"
    }
   ],
   "source": [
    "# USD to CAD\n",
    "url = f'https://www.alphavantage.co/query?function=FX_DAILY&from_symbol=USD&to_symbol=CAD&outputsize=full&apikey={access_key}&datatype=csv'\n",
    "\n",
    "response = requests.get(url)\n",
    "\n",
    "open('cad.csv', 'wb').write(response.content)"
   ]
  },
  {
   "cell_type": "code",
   "execution_count": 6,
   "metadata": {},
   "outputs": [
    {
     "data": {
      "text/plain": [
       "220031"
      ]
     },
     "execution_count": 6,
     "metadata": {},
     "output_type": "execute_result"
    }
   ],
   "source": [
    "# USD to CNY\n",
    "url = f'https://www.alphavantage.co/query?function=FX_DAILY&from_symbol=USD&to_symbol=CNY&outputsize=full&apikey={access_key}&datatype=csv'\n",
    "\n",
    "response = requests.get(url)\n",
    "\n",
    "open('cny.csv', 'wb').write(response.content)"
   ]
  }
 ],
 "metadata": {
  "kernelspec": {
   "display_name": "Python 3",
   "language": "python",
   "name": "python3"
  },
  "language_info": {
   "codemirror_mode": {
    "name": "ipython",
    "version": 3
   },
   "file_extension": ".py",
   "mimetype": "text/x-python",
   "name": "python",
   "nbconvert_exporter": "python",
   "pygments_lexer": "ipython3",
   "version": "3.11.5"
  }
 },
 "nbformat": 4,
 "nbformat_minor": 2
}
