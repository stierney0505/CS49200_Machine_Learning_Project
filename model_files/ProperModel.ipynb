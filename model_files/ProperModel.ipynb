{
  "nbformat": 4,
  "nbformat_minor": 0,
  "metadata": {
    "colab": {
      "provenance": [],
      "gpuType": "T4"
    },
    "kernelspec": {
      "name": "python3",
      "display_name": "Python 3"
    },
    "language_info": {
      "name": "python"
    },
    "accelerator": "GPU"
  },
  "cells": [
    {
      "cell_type": "code",
      "source": [
        "%pip install --upgrade keras\n",
        "import keras\n",
        "print(keras.__version__)"
      ],
      "metadata": {
        "colab": {
          "base_uri": "https://localhost:8080/"
        },
        "id": "NQ31rPotzmK_",
        "outputId": "71eae326-2a79-43bb-a6eb-3fc4b9946856"
      },
      "execution_count": 106,
      "outputs": [
        {
          "output_type": "stream",
          "name": "stdout",
          "text": [
            "Requirement already satisfied: keras in /usr/local/lib/python3.10/dist-packages (3.1.1)\n",
            "Requirement already satisfied: absl-py in /usr/local/lib/python3.10/dist-packages (from keras) (1.4.0)\n",
            "Requirement already satisfied: numpy in /usr/local/lib/python3.10/dist-packages (from keras) (1.25.2)\n",
            "Requirement already satisfied: rich in /usr/local/lib/python3.10/dist-packages (from keras) (13.7.1)\n",
            "Requirement already satisfied: namex in /usr/local/lib/python3.10/dist-packages (from keras) (0.0.7)\n",
            "Requirement already satisfied: h5py in /usr/local/lib/python3.10/dist-packages (from keras) (3.9.0)\n",
            "Requirement already satisfied: optree in /usr/local/lib/python3.10/dist-packages (from keras) (0.11.0)\n",
            "Requirement already satisfied: ml-dtypes in /usr/local/lib/python3.10/dist-packages (from keras) (0.2.0)\n",
            "Requirement already satisfied: typing-extensions>=4.0.0 in /usr/local/lib/python3.10/dist-packages (from optree->keras) (4.10.0)\n",
            "Requirement already satisfied: markdown-it-py>=2.2.0 in /usr/local/lib/python3.10/dist-packages (from rich->keras) (3.0.0)\n",
            "Requirement already satisfied: pygments<3.0.0,>=2.13.0 in /usr/local/lib/python3.10/dist-packages (from rich->keras) (2.16.1)\n",
            "Requirement already satisfied: mdurl~=0.1 in /usr/local/lib/python3.10/dist-packages (from markdown-it-py>=2.2.0->rich->keras) (0.1.2)\n",
            "3.1.1\n"
          ]
        }
      ]
    },
    {
      "cell_type": "code",
      "source": [
        "from google.colab import drive\n",
        "drive.mount('/content/gdrive', readonly=True)\n",
        "\n",
        "!pip install -q kaggle\n",
        "!mkdir -p ~/.kaggle\n",
        "!cp /content/gdrive/MyDrive/ml-project/kaggle.json ~/.kaggle/\n",
        "!ls ~/.kaggle\n",
        "!chmod 600 ~/.kaggle/kaggle.json\n",
        "\n",
        "!kaggle datasets download -d andrewmvd/sp-500-stocks\n",
        "\n",
        "from zipfile import PyZipFile\n",
        "\n",
        "zipfile = PyZipFile('sp-500-stocks.zip')\n",
        "zipfile.extractall()\n",
        "\n",
        "import pandas as pd"
      ],
      "metadata": {
        "colab": {
          "base_uri": "https://localhost:8080/"
        },
        "id": "de2Hz9-L6UNQ",
        "outputId": "429a4999-c8da-4b7a-fe0c-3270e3bac3da"
      },
      "execution_count": 107,
      "outputs": [
        {
          "output_type": "stream",
          "name": "stdout",
          "text": [
            "Drive already mounted at /content/gdrive; to attempt to forcibly remount, call drive.mount(\"/content/gdrive\", force_remount=True).\n",
            "kaggle.json\n",
            "sp-500-stocks.zip: Skipping, found more recently modified local copy (use --force to force download)\n"
          ]
        }
      ]
    },
    {
      "cell_type": "code",
      "execution_count": 108,
      "metadata": {
        "id": "2nSSjPq-vUc9"
      },
      "outputs": [],
      "source": [
        "import tensorflow as tf\n",
        "from tensorflow import keras\n",
        "import numpy as np\n",
        "import os\n",
        "from pathlib import Path\n",
        "import matplotlib as mpl\n",
        "import matplotlib.pyplot as plt\n",
        "import pandas as pd\n",
        "from sklearn.preprocessing import MinMaxScaler, StandardScaler"
      ]
    },
    {
      "cell_type": "code",
      "source": [
        "df_stocks = pd.read_csv('sp500_stocks.csv')\n",
        "sc = MinMaxScaler(feature_range = (0, 1))\n",
        "scaler = sc.fit(df_stocks[[\"Close\", \"High\", \"Low\", \"Open\", \"Volume\"]])\n",
        "df_stocks[[\"Close\", \"High\", \"Low\", \"Open\", \"Volume\"]] = scaler.transform(df_stocks[[\"Close\", \"High\", \"Low\", \"Open\", \"Volume\"]])\n",
        "print(df_stocks[[\"Close\", \"High\", \"Low\", \"Open\", \"Volume\"]].shape)\n",
        "df_stocks.drop(labels=['Adj Close'], axis='columns', inplace=True)\n",
        "df_stocks.dropna(inplace=True)\n",
        "df_stocks.set_index('Symbol', inplace=True)\n",
        "grouped = df_stocks.groupby(level=0)\n",
        "df_stocks_dict = {group: group_df for group, group_df in grouped}"
      ],
      "metadata": {
        "colab": {
          "base_uri": "https://localhost:8080/"
        },
        "id": "P6C4tymKrg-Y",
        "outputId": "f9be8f1f-a939-4b92-d692-a6ef38572238"
      },
      "execution_count": 109,
      "outputs": [
        {
          "output_type": "stream",
          "name": "stdout",
          "text": [
            "(1803758, 5)\n"
          ]
        }
      ]
    },
    {
      "cell_type": "code",
      "source": [
        "import numpy as np\n",
        "\n",
        "numdays = 330\n",
        "windowSize = 60\n",
        "features = 5\n",
        "\n",
        "sc = MinMaxScaler(feature_range = (0, 1))\n",
        "megaDF = []\n",
        "sizes = []\n",
        "i = 0\n",
        "for key in df_stocks_dict:\n",
        "    temp_df = df_stocks_dict[key][(-1 * windowSize):].copy()  # Create a copy of the DataFrame\n",
        "    temp_df.drop(columns=temp_df.columns[0], axis=1, inplace=True)\n",
        "\n",
        "    if(i == 351) :\n",
        "      print(temp_df)\n",
        "    i += 1\n",
        "\n",
        "    if temp_df.shape[0] == windowSize:  # Check if temp_df has the desired number of rows\n",
        "        megaDF.append(temp_df.values)  # Append the values to megaDF\n",
        "        sizes.append(windowSize)  # Update the sizes list\n",
        "    else:\n",
        "        print(f\"Ignoring {key} due to insufficient data for window calculation\")\n",
        "        continue\n",
        "\n",
        "mega_array = np.array(megaDF)\n",
        "print(mega_array.shape)\n",
        "# mode = max(set(sizes), key=sizes.count)\n",
        "# print(mode)\n"
      ],
      "metadata": {
        "colab": {
          "base_uri": "https://localhost:8080/"
        },
        "id": "yMez4Yd1Efjf",
        "outputId": "c6cd6ab7-14bf-4f81-f91b-8078e1a3c192"
      },
      "execution_count": 110,
      "outputs": [
        {
          "output_type": "stream",
          "name": "stdout",
          "text": [
            "Ignoring GEV due to insufficient data for window calculation\n",
            "           Close      High       Low      Open    Volume\n",
            "Symbol                                                  \n",
            "O       0.007257  0.007166  0.007138  0.007067  0.004701\n",
            "O       0.007234  0.007200  0.007274  0.007217  0.004044\n",
            "O       0.007212  0.007197  0.007279  0.007274  0.003572\n",
            "O       0.007232  0.007152  0.007210  0.007197  0.003524\n",
            "O       0.007186  0.007182  0.007225  0.007265  0.003131\n",
            "O       0.007117  0.007087  0.007185  0.007154  0.003088\n",
            "O       0.006977  0.007013  0.006989  0.007039  0.003540\n",
            "O       0.006843  0.006900  0.006887  0.006973  0.003784\n",
            "O       0.006892  0.006813  0.006840  0.006867  0.004899\n",
            "O       0.006776  0.006901  0.006827  0.006907  0.024341\n",
            "O       0.006827  0.006745  0.006837  0.006805  0.006457\n",
            "O       0.006703  0.006839  0.006780  0.006910  0.004369\n",
            "O       0.006756  0.006701  0.006772  0.006780  0.003693\n",
            "O       0.006701  0.006692  0.006780  0.006778  0.003028\n",
            "O       0.006694  0.006623  0.006706  0.006706  0.003365\n",
            "O       0.006727  0.006702  0.006712  0.006671  0.004333\n",
            "O       0.006629  0.006649  0.006675  0.006729  0.006552\n",
            "O       0.006735  0.006643  0.006640  0.006643  0.003360\n",
            "O       0.006604  0.006618  0.006615  0.006711  0.003976\n",
            "O       0.006414  0.006443  0.006487  0.006526  0.004857\n",
            "O       0.006550  0.006482  0.006486  0.006428  0.003827\n",
            "O       0.006502  0.006477  0.006572  0.006552  0.002492\n",
            "O       0.006477  0.006432  0.006541  0.006492  0.002384\n",
            "O       0.006428  0.006400  0.006445  0.006463  0.003464\n",
            "O       0.006417  0.006373  0.006479  0.006439  0.002695\n",
            "O       0.006275  0.006222  0.006310  0.006303  0.005153\n",
            "O       0.006259  0.006216  0.006306  0.006305  0.003149\n",
            "O       0.006336  0.006294  0.006375  0.006313  0.002726\n",
            "O       0.006375  0.006313  0.006319  0.006274  0.003012\n",
            "O       0.006392  0.006326  0.006406  0.006392  0.003241\n",
            "O       0.006419  0.006371  0.006373  0.006458  0.003473\n",
            "O       0.006435  0.006364  0.006464  0.006418  0.003064\n",
            "O       0.006450  0.006420  0.006502  0.006449  0.002755\n",
            "O       0.006394  0.006383  0.006432  0.006461  0.002722\n",
            "O       0.006372  0.006360  0.006435  0.006434  0.003172\n",
            "O       0.006336  0.006283  0.006379  0.006359  0.004057\n",
            "O       0.006347  0.006325  0.006396  0.006358  0.003590\n",
            "O       0.006364  0.006280  0.006274  0.006335  0.004758\n",
            "O       0.006422  0.006350  0.006398  0.006337  0.002749\n",
            "O       0.006365  0.006351  0.006420  0.006416  0.003179\n",
            "O       0.006354  0.006326  0.006394  0.006410  0.002620\n",
            "O       0.006364  0.006319  0.006414  0.006386  0.002592\n",
            "O       0.006446  0.006365  0.006479  0.006410  0.002640\n",
            "O       0.006468  0.006428  0.006510  0.006445  0.002527\n",
            "O       0.006443  0.006373  0.006479  0.006459  0.003703\n",
            "O       0.006368  0.006409  0.006435  0.006455  0.003994\n",
            "O       0.006292  0.006282  0.006316  0.006358  0.005182\n",
            "O       0.006357  0.006284  0.006291  0.006232  0.005355\n",
            "O       0.006360  0.006304  0.006411  0.006342  0.002542\n",
            "O       0.006346  0.006295  0.006389  0.006366  0.002897\n",
            "O       0.006388  0.006306  0.006366  0.006322  0.002157\n",
            "O       0.006394  0.006355  0.006436  0.006417  0.002698\n",
            "O       0.006344  0.006350  0.006411  0.006431  0.003069\n",
            "O       0.006355  0.006317  0.006408  0.006368  0.003602\n",
            "O       0.006408  0.006341  0.006442  0.006382  0.003448\n",
            "O       0.006552  0.006462  0.006519  0.006459  0.004844\n",
            "O       0.006593  0.006515  0.006614  0.006536  0.003359\n",
            "O       0.006514  0.006496  0.006586  0.006584  0.002582\n",
            "O       0.006441  0.006377  0.006494  0.006455  0.002715\n",
            "O       0.006429  0.006365  0.006479  0.006439  0.002201\n",
            "Ignoring SOLV due to insufficient data for window calculation\n",
            "(501, 60, 5)\n"
          ]
        }
      ]
    },
    {
      "cell_type": "code",
      "source": [
        "X_train, y_train, X_valid, y_valid, X_test, y_test = [], [], [], [], [], []\n",
        "\n",
        "X_train, y_train = mega_array[:int(len(mega_array)*0.7), :windowSize], mega_array[:int(len(mega_array)*0.7), 4]\n",
        "X_valid, y_valid = mega_array[int(len(mega_array)*0.7):int(len(mega_array)*0.9), :windowSize], mega_array[int(len(mega_array)*0.7):int(len(mega_array)*0.9), 4]\n",
        "X_test, y_test = mega_array[int(len(mega_array)*0.9):, :windowSize], mega_array[int(len(mega_array)*0.9):, 4]\n",
        "\n",
        "print(X_train.shape)"
      ],
      "metadata": {
        "colab": {
          "base_uri": "https://localhost:8080/"
        },
        "id": "mNkssBGKppix",
        "outputId": "7f125c0c-2bcf-4a8a-84e1-6e0ae8f4c5f6"
      },
      "execution_count": 111,
      "outputs": [
        {
          "output_type": "stream",
          "name": "stdout",
          "text": [
            "(350, 60, 5)\n"
          ]
        }
      ]
    },
    {
      "cell_type": "code",
      "source": [
        "def plot_series(series, y=None, y_pred=None, x_label=\"$t$\", y_label=\"$x(t)$\", legend=True, title=\"series\"):\n",
        "    plt.plot(series, \".-\")\n",
        "    if y is not None:\n",
        "        plt.plot(windowSize, y, \"bo\", label=\"Target\")\n",
        "    if y_pred is not None:\n",
        "        plt.plot(windowSize, y_pred, \"rx\", markersize=10, label=\"Prediction\")\n",
        "    plt.grid(True)\n",
        "    if x_label:\n",
        "        plt.xlabel(x_label, fontsize=16)\n",
        "    if y_label:\n",
        "        plt.ylabel(y_label, fontsize=16, rotation=0)\n",
        "    plt.title(title)\n",
        "    if legend and (y or y_pred):\n",
        "        plt.legend(fontsize=14, loc=\"upper left\")"
      ],
      "metadata": {
        "id": "34fo7E9t8llW"
      },
      "execution_count": 112,
      "outputs": []
    },
    {
      "cell_type": "code",
      "source": [
        "def plot_learning_curves(loss, val_loss, title):\n",
        "    plt.plot(np.arange(len(loss)) + 0.5, loss, \"b.-\", label=\"Training loss\")\n",
        "    plt.plot(np.arange(len(val_loss)) + 1, val_loss, \"r.-\", label=\"Validation loss\")\n",
        "    plt.gca().xaxis.set_major_locator(mpl.ticker.MaxNLocator(integer=True))\n",
        "    plt.legend(fontsize=14)\n",
        "    plt.xlabel(\"Epochs\")\n",
        "    plt.ylabel(\"Loss\")\n",
        "    plt.title(title)\n",
        "    plt.grid(True)"
      ],
      "metadata": {
        "id": "hLiLv-0_9OIF"
      },
      "execution_count": 113,
      "outputs": []
    },
    {
      "cell_type": "code",
      "source": [
        "np.random.seed(42)\n",
        "tf.random.set_seed(42)\n",
        "\n",
        "model = keras.models.Sequential([\n",
        "    keras.layers.LSTM(45, return_sequences=True, input_shape=[None, 5]),\n",
        "    keras.layers.Dropout(0.15),\n",
        "    keras.layers.LSTM(45, return_sequences=True),\n",
        "    keras.layers.Dropout(0.15),\n",
        "    keras.layers.LSTM(45, return_sequences=False),\n",
        "    keras.layers.Dropout(0.15),\n",
        "    keras.layers.Dense(5)\n",
        "])\n",
        "\n",
        "model.compile(loss=\"mse\", optimizer=\"adam\")\n",
        "\n",
        "history = model.fit(X_train, y_train, epochs = 50, batch_size = 32,\n",
        "                    validation_data=(X_valid, y_valid))\n",
        "model.save(\"lstm_model.keras\")"
      ],
      "metadata": {
        "id": "vExRapzz9Uxi",
        "colab": {
          "base_uri": "https://localhost:8080/"
        },
        "outputId": "8dbfcf4c-fcbc-48c7-d7e8-12a05a0638c5"
      },
      "execution_count": 114,
      "outputs": [
        {
          "output_type": "stream",
          "name": "stderr",
          "text": [
            "/usr/local/lib/python3.10/dist-packages/keras/src/layers/rnn/rnn.py:204: UserWarning: Do not pass an `input_shape`/`input_dim` argument to a layer. When using Sequential models, prefer using an `Input(shape)` object as the first layer in the model instead.\n",
            "  super().__init__(**kwargs)\n"
          ]
        },
        {
          "output_type": "stream",
          "name": "stdout",
          "text": [
            "Epoch 1/50\n",
            "\u001b[1m11/11\u001b[0m \u001b[32m━━━━━━━━━━━━━━━━━━━━\u001b[0m\u001b[37m\u001b[0m \u001b[1m5s\u001b[0m 124ms/step - loss: 0.0041 - val_loss: 1.7943e-04\n",
            "Epoch 2/50\n",
            "\u001b[1m11/11\u001b[0m \u001b[32m━━━━━━━━━━━━━━━━━━━━\u001b[0m\u001b[37m\u001b[0m \u001b[1m0s\u001b[0m 33ms/step - loss: 0.0013 - val_loss: 2.2017e-04\n",
            "Epoch 3/50\n",
            "\u001b[1m11/11\u001b[0m \u001b[32m━━━━━━━━━━━━━━━━━━━━\u001b[0m\u001b[37m\u001b[0m \u001b[1m1s\u001b[0m 42ms/step - loss: 4.2491e-04 - val_loss: 9.2428e-05\n",
            "Epoch 4/50\n",
            "\u001b[1m11/11\u001b[0m \u001b[32m━━━━━━━━━━━━━━━━━━━━\u001b[0m\u001b[37m\u001b[0m \u001b[1m1s\u001b[0m 40ms/step - loss: 0.0010 - val_loss: 1.1622e-04\n",
            "Epoch 5/50\n",
            "\u001b[1m11/11\u001b[0m \u001b[32m━━━━━━━━━━━━━━━━━━━━\u001b[0m\u001b[37m\u001b[0m \u001b[1m0s\u001b[0m 24ms/step - loss: 2.4093e-04 - val_loss: 9.0736e-05\n",
            "Epoch 6/50\n",
            "\u001b[1m11/11\u001b[0m \u001b[32m━━━━━━━━━━━━━━━━━━━━\u001b[0m\u001b[37m\u001b[0m \u001b[1m0s\u001b[0m 25ms/step - loss: 4.1004e-04 - val_loss: 1.1407e-04\n",
            "Epoch 7/50\n",
            "\u001b[1m11/11\u001b[0m \u001b[32m━━━━━━━━━━━━━━━━━━━━\u001b[0m\u001b[37m\u001b[0m \u001b[1m0s\u001b[0m 33ms/step - loss: 2.9022e-04 - val_loss: 1.1619e-04\n",
            "Epoch 8/50\n",
            "\u001b[1m11/11\u001b[0m \u001b[32m━━━━━━━━━━━━━━━━━━━━\u001b[0m\u001b[37m\u001b[0m \u001b[1m0s\u001b[0m 20ms/step - loss: 8.1408e-04 - val_loss: 1.0836e-04\n",
            "Epoch 9/50\n",
            "\u001b[1m11/11\u001b[0m \u001b[32m━━━━━━━━━━━━━━━━━━━━\u001b[0m\u001b[37m\u001b[0m \u001b[1m0s\u001b[0m 35ms/step - loss: 1.8864e-04 - val_loss: 1.0030e-04\n",
            "Epoch 10/50\n",
            "\u001b[1m11/11\u001b[0m \u001b[32m━━━━━━━━━━━━━━━━━━━━\u001b[0m\u001b[37m\u001b[0m \u001b[1m1s\u001b[0m 23ms/step - loss: 2.8987e-04 - val_loss: 9.7278e-05\n",
            "Epoch 11/50\n",
            "\u001b[1m11/11\u001b[0m \u001b[32m━━━━━━━━━━━━━━━━━━━━\u001b[0m\u001b[37m\u001b[0m \u001b[1m0s\u001b[0m 27ms/step - loss: 3.9248e-04 - val_loss: 1.1426e-04\n",
            "Epoch 12/50\n",
            "\u001b[1m11/11\u001b[0m \u001b[32m━━━━━━━━━━━━━━━━━━━━\u001b[0m\u001b[37m\u001b[0m \u001b[1m1s\u001b[0m 23ms/step - loss: 2.6717e-04 - val_loss: 9.1681e-05\n",
            "Epoch 13/50\n",
            "\u001b[1m11/11\u001b[0m \u001b[32m━━━━━━━━━━━━━━━━━━━━\u001b[0m\u001b[37m\u001b[0m \u001b[1m0s\u001b[0m 26ms/step - loss: 1.0710e-04 - val_loss: 9.2442e-05\n",
            "Epoch 14/50\n",
            "\u001b[1m11/11\u001b[0m \u001b[32m━━━━━━━━━━━━━━━━━━━━\u001b[0m\u001b[37m\u001b[0m \u001b[1m1s\u001b[0m 28ms/step - loss: 1.1298e-04 - val_loss: 9.1779e-05\n",
            "Epoch 15/50\n",
            "\u001b[1m11/11\u001b[0m \u001b[32m━━━━━━━━━━━━━━━━━━━━\u001b[0m\u001b[37m\u001b[0m \u001b[1m0s\u001b[0m 28ms/step - loss: 1.4962e-04 - val_loss: 9.1133e-05\n",
            "Epoch 16/50\n",
            "\u001b[1m11/11\u001b[0m \u001b[32m━━━━━━━━━━━━━━━━━━━━\u001b[0m\u001b[37m\u001b[0m \u001b[1m1s\u001b[0m 28ms/step - loss: 1.3188e-04 - val_loss: 9.7001e-05\n",
            "Epoch 17/50\n",
            "\u001b[1m11/11\u001b[0m \u001b[32m━━━━━━━━━━━━━━━━━━━━\u001b[0m\u001b[37m\u001b[0m \u001b[1m1s\u001b[0m 29ms/step - loss: 1.2126e-04 - val_loss: 9.2814e-05\n",
            "Epoch 18/50\n",
            "\u001b[1m11/11\u001b[0m \u001b[32m━━━━━━━━━━━━━━━━━━━━\u001b[0m\u001b[37m\u001b[0m \u001b[1m1s\u001b[0m 26ms/step - loss: 1.2059e-04 - val_loss: 9.5501e-05\n",
            "Epoch 19/50\n",
            "\u001b[1m11/11\u001b[0m \u001b[32m━━━━━━━━━━━━━━━━━━━━\u001b[0m\u001b[37m\u001b[0m \u001b[1m0s\u001b[0m 38ms/step - loss: 1.7075e-04 - val_loss: 8.7738e-05\n",
            "Epoch 20/50\n",
            "\u001b[1m11/11\u001b[0m \u001b[32m━━━━━━━━━━━━━━━━━━━━\u001b[0m\u001b[37m\u001b[0m \u001b[1m0s\u001b[0m 28ms/step - loss: 2.9468e-04 - val_loss: 1.0187e-04\n",
            "Epoch 21/50\n",
            "\u001b[1m11/11\u001b[0m \u001b[32m━━━━━━━━━━━━━━━━━━━━\u001b[0m\u001b[37m\u001b[0m \u001b[1m0s\u001b[0m 22ms/step - loss: 9.6638e-05 - val_loss: 9.1457e-05\n",
            "Epoch 22/50\n",
            "\u001b[1m11/11\u001b[0m \u001b[32m━━━━━━━━━━━━━━━━━━━━\u001b[0m\u001b[37m\u001b[0m \u001b[1m0s\u001b[0m 31ms/step - loss: 1.8564e-04 - val_loss: 1.0101e-04\n",
            "Epoch 23/50\n",
            "\u001b[1m11/11\u001b[0m \u001b[32m━━━━━━━━━━━━━━━━━━━━\u001b[0m\u001b[37m\u001b[0m \u001b[1m1s\u001b[0m 29ms/step - loss: 1.7942e-04 - val_loss: 8.9211e-05\n",
            "Epoch 24/50\n",
            "\u001b[1m11/11\u001b[0m \u001b[32m━━━━━━━━━━━━━━━━━━━━\u001b[0m\u001b[37m\u001b[0m \u001b[1m0s\u001b[0m 32ms/step - loss: 7.8056e-05 - val_loss: 8.7827e-05\n",
            "Epoch 25/50\n",
            "\u001b[1m11/11\u001b[0m \u001b[32m━━━━━━━━━━━━━━━━━━━━\u001b[0m\u001b[37m\u001b[0m \u001b[1m0s\u001b[0m 26ms/step - loss: 1.9118e-04 - val_loss: 1.0267e-04\n",
            "Epoch 26/50\n",
            "\u001b[1m11/11\u001b[0m \u001b[32m━━━━━━━━━━━━━━━━━━━━\u001b[0m\u001b[37m\u001b[0m \u001b[1m1s\u001b[0m 39ms/step - loss: 2.5625e-04 - val_loss: 1.1805e-04\n",
            "Epoch 27/50\n",
            "\u001b[1m11/11\u001b[0m \u001b[32m━━━━━━━━━━━━━━━━━━━━\u001b[0m\u001b[37m\u001b[0m \u001b[1m1s\u001b[0m 46ms/step - loss: 3.6378e-04 - val_loss: 1.1244e-04\n",
            "Epoch 28/50\n",
            "\u001b[1m11/11\u001b[0m \u001b[32m━━━━━━━━━━━━━━━━━━━━\u001b[0m\u001b[37m\u001b[0m \u001b[1m0s\u001b[0m 35ms/step - loss: 2.2992e-04 - val_loss: 9.0349e-05\n",
            "Epoch 29/50\n",
            "\u001b[1m11/11\u001b[0m \u001b[32m━━━━━━━━━━━━━━━━━━━━\u001b[0m\u001b[37m\u001b[0m \u001b[1m1s\u001b[0m 44ms/step - loss: 1.8938e-04 - val_loss: 9.9537e-05\n",
            "Epoch 30/50\n",
            "\u001b[1m11/11\u001b[0m \u001b[32m━━━━━━━━━━━━━━━━━━━━\u001b[0m\u001b[37m\u001b[0m \u001b[1m1s\u001b[0m 63ms/step - loss: 5.4381e-04 - val_loss: 9.0527e-05\n",
            "Epoch 31/50\n",
            "\u001b[1m11/11\u001b[0m \u001b[32m━━━━━━━━━━━━━━━━━━━━\u001b[0m\u001b[37m\u001b[0m \u001b[1m1s\u001b[0m 27ms/step - loss: 1.5211e-04 - val_loss: 8.7923e-05\n",
            "Epoch 32/50\n",
            "\u001b[1m11/11\u001b[0m \u001b[32m━━━━━━━━━━━━━━━━━━━━\u001b[0m\u001b[37m\u001b[0m \u001b[1m1s\u001b[0m 25ms/step - loss: 1.4549e-04 - val_loss: 8.4125e-05\n",
            "Epoch 33/50\n",
            "\u001b[1m11/11\u001b[0m \u001b[32m━━━━━━━━━━━━━━━━━━━━\u001b[0m\u001b[37m\u001b[0m \u001b[1m0s\u001b[0m 18ms/step - loss: 8.6896e-05 - val_loss: 1.0601e-04\n",
            "Epoch 34/50\n",
            "\u001b[1m11/11\u001b[0m \u001b[32m━━━━━━━━━━━━━━━━━━━━\u001b[0m\u001b[37m\u001b[0m \u001b[1m0s\u001b[0m 15ms/step - loss: 1.3181e-04 - val_loss: 8.4908e-05\n",
            "Epoch 35/50\n",
            "\u001b[1m11/11\u001b[0m \u001b[32m━━━━━━━━━━━━━━━━━━━━\u001b[0m\u001b[37m\u001b[0m \u001b[1m0s\u001b[0m 14ms/step - loss: 1.0308e-04 - val_loss: 9.4417e-05\n",
            "Epoch 36/50\n",
            "\u001b[1m11/11\u001b[0m \u001b[32m━━━━━━━━━━━━━━━━━━━━\u001b[0m\u001b[37m\u001b[0m \u001b[1m0s\u001b[0m 14ms/step - loss: 2.3322e-04 - val_loss: 1.0322e-04\n",
            "Epoch 37/50\n",
            "\u001b[1m11/11\u001b[0m \u001b[32m━━━━━━━━━━━━━━━━━━━━\u001b[0m\u001b[37m\u001b[0m \u001b[1m0s\u001b[0m 13ms/step - loss: 1.4652e-04 - val_loss: 8.9066e-05\n",
            "Epoch 38/50\n",
            "\u001b[1m11/11\u001b[0m \u001b[32m━━━━━━━━━━━━━━━━━━━━\u001b[0m\u001b[37m\u001b[0m \u001b[1m0s\u001b[0m 14ms/step - loss: 1.5740e-04 - val_loss: 8.4380e-05\n",
            "Epoch 39/50\n",
            "\u001b[1m11/11\u001b[0m \u001b[32m━━━━━━━━━━━━━━━━━━━━\u001b[0m\u001b[37m\u001b[0m \u001b[1m0s\u001b[0m 14ms/step - loss: 5.9144e-05 - val_loss: 8.1023e-05\n",
            "Epoch 40/50\n",
            "\u001b[1m11/11\u001b[0m \u001b[32m━━━━━━━━━━━━━━━━━━━━\u001b[0m\u001b[37m\u001b[0m \u001b[1m0s\u001b[0m 13ms/step - loss: 7.8540e-04 - val_loss: 8.7857e-05\n",
            "Epoch 41/50\n",
            "\u001b[1m11/11\u001b[0m \u001b[32m━━━━━━━━━━━━━━━━━━━━\u001b[0m\u001b[37m\u001b[0m \u001b[1m0s\u001b[0m 14ms/step - loss: 1.2231e-04 - val_loss: 8.6907e-05\n",
            "Epoch 42/50\n",
            "\u001b[1m11/11\u001b[0m \u001b[32m━━━━━━━━━━━━━━━━━━━━\u001b[0m\u001b[37m\u001b[0m \u001b[1m0s\u001b[0m 15ms/step - loss: 2.8279e-04 - val_loss: 8.6444e-05\n",
            "Epoch 43/50\n",
            "\u001b[1m11/11\u001b[0m \u001b[32m━━━━━━━━━━━━━━━━━━━━\u001b[0m\u001b[37m\u001b[0m \u001b[1m0s\u001b[0m 14ms/step - loss: 1.2929e-04 - val_loss: 8.8380e-05\n",
            "Epoch 44/50\n",
            "\u001b[1m11/11\u001b[0m \u001b[32m━━━━━━━━━━━━━━━━━━━━\u001b[0m\u001b[37m\u001b[0m \u001b[1m0s\u001b[0m 13ms/step - loss: 2.1335e-04 - val_loss: 7.9199e-05\n",
            "Epoch 45/50\n",
            "\u001b[1m11/11\u001b[0m \u001b[32m━━━━━━━━━━━━━━━━━━━━\u001b[0m\u001b[37m\u001b[0m \u001b[1m0s\u001b[0m 14ms/step - loss: 9.4746e-05 - val_loss: 7.9891e-05\n",
            "Epoch 46/50\n",
            "\u001b[1m11/11\u001b[0m \u001b[32m━━━━━━━━━━━━━━━━━━━━\u001b[0m\u001b[37m\u001b[0m \u001b[1m0s\u001b[0m 13ms/step - loss: 1.0511e-04 - val_loss: 9.1958e-05\n",
            "Epoch 47/50\n",
            "\u001b[1m11/11\u001b[0m \u001b[32m━━━━━━━━━━━━━━━━━━━━\u001b[0m\u001b[37m\u001b[0m \u001b[1m0s\u001b[0m 15ms/step - loss: 2.6447e-04 - val_loss: 8.3857e-05\n",
            "Epoch 48/50\n",
            "\u001b[1m11/11\u001b[0m \u001b[32m━━━━━━━━━━━━━━━━━━━━\u001b[0m\u001b[37m\u001b[0m \u001b[1m0s\u001b[0m 15ms/step - loss: 5.1759e-04 - val_loss: 1.1670e-04\n",
            "Epoch 49/50\n",
            "\u001b[1m11/11\u001b[0m \u001b[32m━━━━━━━━━━━━━━━━━━━━\u001b[0m\u001b[37m\u001b[0m \u001b[1m0s\u001b[0m 14ms/step - loss: 6.5838e-04 - val_loss: 9.1669e-05\n",
            "Epoch 50/50\n",
            "\u001b[1m11/11\u001b[0m \u001b[32m━━━━━━━━━━━━━━━━━━━━\u001b[0m\u001b[37m\u001b[0m \u001b[1m0s\u001b[0m 13ms/step - loss: 1.5901e-04 - val_loss: 8.6117e-05\n"
          ]
        }
      ]
    },
    {
      "cell_type": "code",
      "source": [
        "print(\"Evaluation: \")\n",
        "model.evaluate(X_valid, y_valid)"
      ],
      "metadata": {
        "id": "qzsuPP4M_XgL",
        "colab": {
          "base_uri": "https://localhost:8080/"
        },
        "outputId": "3443d278-6291-444c-ed22-0d3e5d028813"
      },
      "execution_count": 115,
      "outputs": [
        {
          "output_type": "stream",
          "name": "stdout",
          "text": [
            "Evaluation: \n",
            "\u001b[1m4/4\u001b[0m \u001b[32m━━━━━━━━━━━━━━━━━━━━\u001b[0m\u001b[37m\u001b[0m \u001b[1m0s\u001b[0m 6ms/step - loss: 5.8557e-05 \n"
          ]
        },
        {
          "output_type": "execute_result",
          "data": {
            "text/plain": [
              "8.611720841145143e-05"
            ]
          },
          "metadata": {},
          "execution_count": 115
        }
      ]
    },
    {
      "cell_type": "code",
      "source": [
        "plot_learning_curves(history.history[\"loss\"], history.history[\"val_loss\"],\n",
        "                        \"Training and Validation Loss\")\n",
        "plt.show()\n",
        "plt.savefig('loss.png')\n"
      ],
      "metadata": {
        "id": "QTfCEmtu_ejl",
        "colab": {
          "base_uri": "https://localhost:8080/",
          "height": 489
        },
        "outputId": "7cf5f052-f15a-4b11-ae09-02396eb63b30"
      },
      "execution_count": 116,
      "outputs": [
        {
          "output_type": "display_data",
          "data": {
            "text/plain": [
              "<Figure size 640x480 with 1 Axes>"
            ],
            "image/png": "[encoded data removed]"
          },
          "metadata": {}
        },
        {
          "output_type": "display_data",
          "data": {
            "text/plain": [
              "<Figure size 640x480 with 0 Axes>"
            ]
          },
          "metadata": {}
        }
      ]
    },
    {
      "cell_type": "code",
      "source": [
        "print(X_valid.shape)\n",
        "test = X_valid[0]\n",
        "reshaped_arr = test.reshape(1, windowSize, 5)\n",
        "testPred = model.predict(reshaped_arr)\n",
        "unscaledPred = scaler.inverse_transform(testPred)\n",
        "print(unscaledPred[0])\n",
        "\n",
        "plot_series(X_valid[0, :, 0], y_valid[0, 0], testPred[0, 0], title=\"prediction\")"
      ],
      "metadata": {
        "id": "tFm0fkr5X4Jc",
        "colab": {
          "base_uri": "https://localhost:8080/",
          "height": 530
        },
        "outputId": "1940f6f6-a3bf-4e75-ca2e-3ae5c3fcd189"
      },
      "execution_count": 117,
      "outputs": [
        {
          "output_type": "stream",
          "name": "stdout",
          "text": [
            "(100, 60, 5)\n",
            "\u001b[1m1/1\u001b[0m \u001b[32m━━━━━━━━━━━━━━━━━━━━\u001b[0m\u001b[37m\u001b[0m \u001b[1m0s\u001b[0m 188ms/step\n",
            "[4.2565788e+01 4.8445175e+01 2.6686422e+01 5.0050610e+01 4.5076920e+06]\n"
          ]
        },
        {
          "output_type": "display_data",
          "data": {
            "text/plain": [
              "<Figure size 640x480 with 1 Axes>"
            ],
            "image/png": "[encoded data removed]"
          },
          "metadata": {}
        }
      ]
    }
  ]
}