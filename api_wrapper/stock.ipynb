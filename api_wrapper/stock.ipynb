{
 "cells": [
  {
   "cell_type": "code",
   "execution_count": 1,
   "metadata": {},
   "outputs": [],
   "source": [
    "import os\n",
    "from dotenv import load_dotenv\n",
    "from alpaca.data.historical import StockHistoricalDataClient\n",
    "\n",
    "load_dotenv()\n",
    "\n",
    "# API from Alpaca (website: https://docs.alpaca.markets/docs/getting-started)\n",
    "# Limited to 200 calls/min at the free tier\n",
    "client = StockHistoricalDataClient(os.getenv('API_KEY'), os.getenv('API_SECRET'))"
   ]
  },
  {
   "cell_type": "code",
   "execution_count": 12,
   "metadata": {},
   "outputs": [],
   "source": [
    "from alpaca.data.requests import StockBarsRequest\n",
    "from alpaca.data.timeframe import TimeFrame\n",
    "from datetime import datetime, timedelta\n",
    "\n",
    "def stock_info_from_range(symbols: list[str], start: datetime, end: datetime):\n",
    "  request_params = StockBarsRequest(\n",
    "    symbol_or_symbols=symbols,\n",
    "    timeframe=TimeFrame.Day,\n",
    "    start=start,\n",
    "    end=end\n",
    "  )\n",
    "\n",
    "  apple_bars = client.get_stock_bars(request_params)\n",
    "\n",
    "  return apple_bars.df\n",
    "\n",
    "def stock_info_from_day(symbols: list[str], day: datetime):\n",
    "  end = day + timedelta(days=1)\n",
    "\n",
    "  request_params = StockBarsRequest(\n",
    "    symbol_or_symbols=symbols,\n",
    "    timeframe=TimeFrame.Day,\n",
    "    start=day,\n",
    "    end=end\n",
    "  )\n",
    "\n",
    "  apple_bars = client.get_stock_bars(request_params)\n",
    "\n",
    "  return apple_bars.df"
   ]
  },
  {
   "cell_type": "code",
   "execution_count": 19,
   "metadata": {},
   "outputs": [
    {
     "name": "stdout",
     "output_type": "stream",
     "text": [
      "                                    open    high       low   close  \\\n",
      "symbol timestamp                                                     \n",
      "AAPL   2024-01-17 05:00:00+00:00  181.27  182.93  180.3000  182.68   \n",
      "       2024-01-18 05:00:00+00:00  186.09  189.14  185.8300  188.63   \n",
      "       2024-01-19 05:00:00+00:00  189.33  191.95  188.8200  191.56   \n",
      "       2024-01-22 05:00:00+00:00  192.30  195.33  192.2600  193.89   \n",
      "       2024-01-23 05:00:00+00:00  195.02  195.75  193.8299  195.18   \n",
      "\n",
      "                                      volume  trade_count        vwap  \n",
      "symbol timestamp                                                       \n",
      "AAPL   2024-01-17 05:00:00+00:00  47321545.0     594725.0  181.920124  \n",
      "       2024-01-18 05:00:00+00:00  78031784.0     787472.0  187.937675  \n",
      "       2024-01-19 05:00:00+00:00  68902985.0     682664.0  190.615081  \n",
      "       2024-01-22 05:00:00+00:00  60139948.0     718256.0  193.989116  \n",
      "       2024-01-23 05:00:00+00:00  42360151.0     533198.0  194.820338  \n",
      "                                     open    high     low   close      volume  \\\n",
      "symbol timestamp                                                                \n",
      "AAPL   2024-02-01 05:00:00+00:00  183.985  186.95  183.82  186.86  64885408.0   \n",
      "\n",
      "                                  trade_count        vwap  \n",
      "symbol timestamp                                           \n",
      "AAPL   2024-02-01 05:00:00+00:00     820977.0  185.568846  \n"
     ]
    }
   ],
   "source": [
    "# Example calls\n",
    "df = stock_info_from_range(['AAPL'], start=datetime(2024, 1, 17), end=datetime(2024, 1, 24))\n",
    "print(df.head())\n",
    "\n",
    "df = stock_info_from_day(['AAPL'], datetime(2024, 2, 1))\n",
    "print(df.head())"
   ]
  }
 ],
 "metadata": {
  "kernelspec": {
   "display_name": "Python 3",
   "language": "python",
   "name": "python3"
  },
  "language_info": {
   "codemirror_mode": {
    "name": "ipython",
    "version": 3
   },
   "file_extension": ".py",
   "mimetype": "text/x-python",
   "name": "python",
   "nbconvert_exporter": "python",
   "pygments_lexer": "ipython3",
   "version": "3.11.5"
  }
 },
 "nbformat": 4,
 "nbformat_minor": 2
}
